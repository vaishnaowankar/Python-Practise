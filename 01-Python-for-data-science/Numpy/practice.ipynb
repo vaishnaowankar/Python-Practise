{
 "cells": [
  {
   "cell_type": "code",
   "execution_count": 1,
   "id": "19b38b75-3de1-480d-b7e2-0a20bfa5fc57",
   "metadata": {},
   "outputs": [],
   "source": [
    "import numpy as np"
   ]
  },
  {
   "cell_type": "code",
   "execution_count": 2,
   "id": "a0d7f067-06f2-4f73-8f73-1cd663335d98",
   "metadata": {},
   "outputs": [
    {
     "name": "stdout",
     "output_type": "stream",
     "text": [
      "[10 20 30 40]\n"
     ]
    }
   ],
   "source": [
    "arr = np.array([10,20,30,40])\n",
    "print(arr)"
   ]
  },
  {
   "cell_type": "code",
   "execution_count": 3,
   "id": "2fc4f3dc-77b5-4972-b952-6d75308692fb",
   "metadata": {},
   "outputs": [
    {
     "name": "stdout",
     "output_type": "stream",
     "text": [
      "<class 'numpy.ndarray'>\n"
     ]
    }
   ],
   "source": [
    "print(type(arr))"
   ]
  },
  {
   "cell_type": "markdown",
   "id": "940184c4-70c4-41aa-9a9a-8960bbf9318a",
   "metadata": {},
   "source": [
    "# Checking numpy version"
   ]
  },
  {
   "cell_type": "code",
   "execution_count": 5,
   "id": "33cfef14-efd5-4381-8d79-6f32f3ffb2d9",
   "metadata": {},
   "outputs": [
    {
     "name": "stdout",
     "output_type": "stream",
     "text": [
      "1.26.4\n"
     ]
    }
   ],
   "source": [
    "print(np.__version__)"
   ]
  },
  {
   "cell_type": "markdown",
   "id": "18c77041-9174-42d9-8668-f30eaa34fb89",
   "metadata": {},
   "source": [
    "# 3-D Array"
   ]
  },
  {
   "cell_type": "code",
   "execution_count": 7,
   "id": "27b60e16-24e1-422a-b378-849633f8912f",
   "metadata": {},
   "outputs": [
    {
     "name": "stdout",
     "output_type": "stream",
     "text": [
      "[[[1 2 3]\n",
      "  [4 5 6]]\n",
      "\n",
      " [[1 2 3]\n",
      "  [4 5 6]]]\n"
     ]
    }
   ],
   "source": [
    "arr3D = np.array([[[1,2,3],[4,5,6]],[[1,2,3],[4,5,6]]])\n",
    "print(arr3D)"
   ]
  },
  {
   "cell_type": "markdown",
   "id": "2b6b9a6e-91dd-4abb-86b2-087a3a7c762a",
   "metadata": {},
   "source": [
    "# Checking number of dimensions"
   ]
  },
  {
   "cell_type": "code",
   "execution_count": 10,
   "id": "018d677c-8d84-4557-85fa-72e358fb7be4",
   "metadata": {},
   "outputs": [
    {
     "name": "stdout",
     "output_type": "stream",
     "text": [
      "0\n",
      "1\n",
      "2\n",
      "3\n"
     ]
    }
   ],
   "source": [
    "a = np.array(42)\n",
    "b = np.array([1, 2, 3, 4, 5])\n",
    "c = np.array([[1, 2, 3], [4, 5, 6]])\n",
    "d = np.array([[[1, 2, 3], [4, 5, 6]], [[1, 2, 3], [4, 5, 6]]])\n",
    "\n",
    "print(a.ndim)\n",
    "print(b.ndim)\n",
    "print(c.ndim)\n",
    "print(d.ndim)"
   ]
  },
  {
   "cell_type": "markdown",
   "id": "36f8c204-81f0-45fa-b31a-2534063ad653",
   "metadata": {},
   "source": [
    "# Higher Dimensional Arrays"
   ]
  },
  {
   "cell_type": "markdown",
   "id": "1054bea2-8540-4c00-9e22-b8bc463e6f54",
   "metadata": {},
   "source": [
    "## Create an array with 5 dimensions and verify that it has 5 dimensions:"
   ]
  },
  {
   "cell_type": "code",
   "execution_count": 15,
   "id": "a023e428-8b87-47b2-98b1-d6af172c6f04",
   "metadata": {},
   "outputs": [
    {
     "name": "stdout",
     "output_type": "stream",
     "text": [
      "[[[[[1 2 3 4]]]]]\n",
      "No of dimensions in array is:  5\n"
     ]
    }
   ],
   "source": [
    "arrND = np.array([1,2,3,4], ndmin=5)\n",
    "\n",
    "print(arrND)\n",
    "print(\"No of dimensions in array is: \" , arrND.ndim)"
   ]
  },
  {
   "cell_type": "markdown",
   "id": "a282bb08-e93f-43bc-96e3-96b0355056a9",
   "metadata": {},
   "source": [
    "# Access array elements"
   ]
  },
  {
   "cell_type": "code",
   "execution_count": 17,
   "id": "079d6925-4e9c-4e20-a13e-68bded7d5093",
   "metadata": {},
   "outputs": [
    {
     "name": "stdout",
     "output_type": "stream",
     "text": [
      "2\n",
      "4\n"
     ]
    }
   ],
   "source": [
    "arr=np.array([1,2,3,4])\n",
    "\n",
    "print(arr[1])\n",
    "\n",
    "print(arr[0] + arr[2])"
   ]
  },
  {
   "cell_type": "markdown",
   "id": "b17bcd49-a705-49b0-baba-c8cd8f534878",
   "metadata": {},
   "source": [
    "# Access 2-D arrays"
   ]
  },
  {
   "cell_type": "code",
   "execution_count": 19,
   "id": "ffb0ac68-6c90-489e-8ffc-6056eb681e4c",
   "metadata": {},
   "outputs": [
    {
     "name": "stdout",
     "output_type": "stream",
     "text": [
      "2nd element on 1st row is:  2\n",
      "5th element on 2nd row is:  10\n"
     ]
    }
   ],
   "source": [
    "arr = np.array([[1,2,3,4,5],[6,7,8,9,10]])\n",
    "\n",
    "print(\"2nd element on 1st row is: \" , arr[0,1])\n",
    "print(\"5th element on 2nd row is: \" , arr[1,4])"
   ]
  },
  {
   "cell_type": "markdown",
   "id": "0dc09c65-f6ed-4a71-b87b-0c423aa35cd2",
   "metadata": {},
   "source": [
    "# Access 3-D arrays"
   ]
  },
  {
   "cell_type": "code",
   "execution_count": 20,
   "id": "66097d8f-f04c-491e-8d1e-a332fd9414fe",
   "metadata": {},
   "outputs": [
    {
     "name": "stdout",
     "output_type": "stream",
     "text": [
      "6\n"
     ]
    }
   ],
   "source": [
    "arr = np.array([[[1,2,3],[4,5,6]],[[7,8,9],[10,11,12]]])\n",
    "print(arr[0,1,2])"
   ]
  },
  {
   "cell_type": "markdown",
   "id": "83df6178-02e3-4cff-a14d-17a7df394592",
   "metadata": {},
   "source": [
    "### Example Explained \n",
    "\n",
    "arr[0, 1, 2] prints the value 6.\n",
    "\n",
    "And this is why:\n",
    "\n",
    "The first number represents the first dimension, which contains two arrays:\n",
    "[[1, 2, 3], [4, 5, 6]]\n",
    "and:\n",
    "[[7, 8, 9], [10, 11, 12]]\n",
    "Since we selected 0, we are left with the first array:\n",
    "[[1, 2, 3], [4, 5, 6]]\n",
    "\n",
    "The second number represents the second dimension, which also contains two arrays:\n",
    "[1, 2, 3]\n",
    "and:\n",
    "[4, 5, 6]\n",
    "Since we selected 1, we are left with the second array:\n",
    "[4, 5, 6]\n",
    "\n",
    "The third number represents the third dimension, which contains three values:\n",
    "4\n",
    "5\n",
    "6\n",
    "Since we selected 2, we end up with the third value:\n",
    "6\n"
   ]
  },
  {
   "cell_type": "markdown",
   "id": "5cdb401c-35b7-4046-8c6f-5bf3605760bb",
   "metadata": {},
   "source": [
    "# Negative Indexing"
   ]
  },
  {
   "cell_type": "code",
   "execution_count": 21,
   "id": "1b2c4dc4-e748-4823-8d9d-0ee2d10611d2",
   "metadata": {},
   "outputs": [
    {
     "name": "stdout",
     "output_type": "stream",
     "text": [
      "Last element from 2nd dimension:  10\n"
     ]
    }
   ],
   "source": [
    "arr = np.array([[1,2,3,4,5],[6,7,8,9,10]])\n",
    "\n",
    "print(\"Last element from 2nd dimension: \" , arr[1,-1])"
   ]
  },
  {
   "cell_type": "markdown",
   "id": "767d7f50-15cf-400e-ae29-14d140ea3dc9",
   "metadata": {},
   "source": [
    "# slicing 2-D arrays"
   ]
  },
  {
   "cell_type": "code",
   "execution_count": 24,
   "id": "14592b86-d215-4d6c-8b04-d4f9d8cb0e41",
   "metadata": {},
   "outputs": [
    {
     "name": "stdout",
     "output_type": "stream",
     "text": [
      "[7 8 9]\n"
     ]
    }
   ],
   "source": [
    "arr = np.array([[1,2,3,4,5],[6,7,8,9,10]])\n",
    "\n",
    "print(arr[1,1:4])"
   ]
  },
  {
   "cell_type": "markdown",
   "id": "7d51fd7b-a11e-475e-b1c5-cdb2ed9acfc4",
   "metadata": {},
   "source": [
    "## From both elements, return index 2:"
   ]
  },
  {
   "cell_type": "code",
   "execution_count": 26,
   "id": "db3fcc36-edab-4eba-b9be-a202d2673a4d",
   "metadata": {},
   "outputs": [
    {
     "name": "stdout",
     "output_type": "stream",
     "text": [
      "[3 8]\n"
     ]
    }
   ],
   "source": [
    "arr = np.array([[1, 2, 3, 4, 5], [6, 7, 8, 9, 10]])\n",
    "print(arr[0:2,2])"
   ]
  },
  {
   "cell_type": "markdown",
   "id": "cd54219b-c5d1-46c6-8550-e1031d9c9842",
   "metadata": {},
   "source": [
    "## From both elements, slice index 1 to index 4 (not included), this will return a 2-D array:"
   ]
  },
  {
   "cell_type": "code",
   "execution_count": 28,
   "id": "18016ff4-2900-4787-a27d-18327c3ba105",
   "metadata": {},
   "outputs": [
    {
     "name": "stdout",
     "output_type": "stream",
     "text": [
      "[[2 3 4]\n",
      " [7 8 9]]\n"
     ]
    }
   ],
   "source": [
    "arr = np.array([[1, 2, 3, 4, 5], [6, 7, 8, 9, 10]])\n",
    "\n",
    "print(arr[0:2,1:4])"
   ]
  }
 ],
 "metadata": {
  "kernelspec": {
   "display_name": "Python 3 (ipykernel)",
   "language": "python",
   "name": "python3"
  },
  "language_info": {
   "codemirror_mode": {
    "name": "ipython",
    "version": 3
   },
   "file_extension": ".py",
   "mimetype": "text/x-python",
   "name": "python",
   "nbconvert_exporter": "python",
   "pygments_lexer": "ipython3",
   "version": "3.12.2"
  }
 },
 "nbformat": 4,
 "nbformat_minor": 5
}
