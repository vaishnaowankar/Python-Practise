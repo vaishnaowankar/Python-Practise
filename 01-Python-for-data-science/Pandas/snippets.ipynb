{
 "cells": [
  {
   "cell_type": "code",
   "execution_count": 1,
   "id": "a8011373-d0f8-4fbc-ad06-f6968a320851",
   "metadata": {},
   "outputs": [],
   "source": [
    "import pandas as pd\n"
   ]
  },
  {
   "cell_type": "code",
   "execution_count": 2,
   "id": "4d7f1286-ebab-4c4d-bd82-4c603625a950",
   "metadata": {},
   "outputs": [],
   "source": [
    "people = {\n",
    "    \"first\" : ['Vaishnao','Avyukt','Reyansh'],\n",
    "    \"last\" : ['Wankar','Harjai','Lamba'],\n",
    "    \"email\" : ['vaishnaowankar@gmail.com','avyuktharjai@gmail.com','reyanshlamba@gmail.com']\n",
    "}"
   ]
  },
  {
   "cell_type": "code",
   "execution_count": 3,
   "id": "d878e82c-52a9-4b19-918f-0dbf84263be4",
   "metadata": {},
   "outputs": [],
   "source": [
    "df = pd.DataFrame(people)"
   ]
  },
  {
   "cell_type": "code",
   "execution_count": 4,
   "id": "1bddad51-3a71-4c16-b4d7-39a8d2f53042",
   "metadata": {},
   "outputs": [
    {
     "data": {
      "text/html": [
       "<div>\n",
       "<style scoped>\n",
       "    .dataframe tbody tr th:only-of-type {\n",
       "        vertical-align: middle;\n",
       "    }\n",
       "\n",
       "    .dataframe tbody tr th {\n",
       "        vertical-align: top;\n",
       "    }\n",
       "\n",
       "    .dataframe thead th {\n",
       "        text-align: right;\n",
       "    }\n",
       "</style>\n",
       "<table border=\"1\" class=\"dataframe\">\n",
       "  <thead>\n",
       "    <tr style=\"text-align: right;\">\n",
       "      <th></th>\n",
       "      <th>first</th>\n",
       "      <th>last</th>\n",
       "      <th>email</th>\n",
       "    </tr>\n",
       "  </thead>\n",
       "  <tbody>\n",
       "    <tr>\n",
       "      <th>0</th>\n",
       "      <td>Vaishnao</td>\n",
       "      <td>Wankar</td>\n",
       "      <td>vaishnaowankar@gmail.com</td>\n",
       "    </tr>\n",
       "    <tr>\n",
       "      <th>1</th>\n",
       "      <td>Avyukt</td>\n",
       "      <td>Harjai</td>\n",
       "      <td>avyuktharjai@gmail.com</td>\n",
       "    </tr>\n",
       "    <tr>\n",
       "      <th>2</th>\n",
       "      <td>Reyansh</td>\n",
       "      <td>Lamba</td>\n",
       "      <td>reyanshlamba@gmail.com</td>\n",
       "    </tr>\n",
       "  </tbody>\n",
       "</table>\n",
       "</div>"
      ],
      "text/plain": [
       "      first    last                     email\n",
       "0  Vaishnao  Wankar  vaishnaowankar@gmail.com\n",
       "1    Avyukt  Harjai    avyuktharjai@gmail.com\n",
       "2   Reyansh   Lamba    reyanshlamba@gmail.com"
      ]
     },
     "execution_count": 4,
     "metadata": {},
     "output_type": "execute_result"
    }
   ],
   "source": [
    "df"
   ]
  },
  {
   "cell_type": "markdown",
   "id": "ed60f898-4391-4727-82ee-712c6bebe4de",
   "metadata": {},
   "source": [
    "# Updating Columns"
   ]
  },
  {
   "cell_type": "code",
   "execution_count": 5,
   "id": "a244b1e3-d087-468b-8eff-22ca9f56d9b8",
   "metadata": {},
   "outputs": [
    {
     "data": {
      "text/plain": [
       "Index(['first', 'last', 'email'], dtype='object')"
      ]
     },
     "execution_count": 5,
     "metadata": {},
     "output_type": "execute_result"
    }
   ],
   "source": [
    "df.columns"
   ]
  },
  {
   "cell_type": "code",
   "execution_count": 6,
   "id": "94ed9d43-b88c-4c0b-a0de-f24017368662",
   "metadata": {},
   "outputs": [],
   "source": [
    "df.columns = ['first_name','last_name','email']"
   ]
  },
  {
   "cell_type": "code",
   "execution_count": 7,
   "id": "e69e8cef-f079-4bed-8af8-2b3a637eed40",
   "metadata": {},
   "outputs": [
    {
     "data": {
      "text/html": [
       "<div>\n",
       "<style scoped>\n",
       "    .dataframe tbody tr th:only-of-type {\n",
       "        vertical-align: middle;\n",
       "    }\n",
       "\n",
       "    .dataframe tbody tr th {\n",
       "        vertical-align: top;\n",
       "    }\n",
       "\n",
       "    .dataframe thead th {\n",
       "        text-align: right;\n",
       "    }\n",
       "</style>\n",
       "<table border=\"1\" class=\"dataframe\">\n",
       "  <thead>\n",
       "    <tr style=\"text-align: right;\">\n",
       "      <th></th>\n",
       "      <th>first_name</th>\n",
       "      <th>last_name</th>\n",
       "      <th>email</th>\n",
       "    </tr>\n",
       "  </thead>\n",
       "  <tbody>\n",
       "    <tr>\n",
       "      <th>0</th>\n",
       "      <td>Vaishnao</td>\n",
       "      <td>Wankar</td>\n",
       "      <td>vaishnaowankar@gmail.com</td>\n",
       "    </tr>\n",
       "    <tr>\n",
       "      <th>1</th>\n",
       "      <td>Avyukt</td>\n",
       "      <td>Harjai</td>\n",
       "      <td>avyuktharjai@gmail.com</td>\n",
       "    </tr>\n",
       "    <tr>\n",
       "      <th>2</th>\n",
       "      <td>Reyansh</td>\n",
       "      <td>Lamba</td>\n",
       "      <td>reyanshlamba@gmail.com</td>\n",
       "    </tr>\n",
       "  </tbody>\n",
       "</table>\n",
       "</div>"
      ],
      "text/plain": [
       "  first_name last_name                     email\n",
       "0   Vaishnao    Wankar  vaishnaowankar@gmail.com\n",
       "1     Avyukt    Harjai    avyuktharjai@gmail.com\n",
       "2    Reyansh     Lamba    reyanshlamba@gmail.com"
      ]
     },
     "execution_count": 7,
     "metadata": {},
     "output_type": "execute_result"
    }
   ],
   "source": [
    "df"
   ]
  },
  {
   "cell_type": "code",
   "execution_count": 8,
   "id": "4c32b644-a8a1-4ef9-9196-caf7735d8895",
   "metadata": {},
   "outputs": [],
   "source": [
    "# changing the representation of columns\n",
    "df.columns = [x.upper() for x in df.columns]"
   ]
  },
  {
   "cell_type": "code",
   "execution_count": 9,
   "id": "0c1408dd-d1b5-4b08-932d-59c88b3711a9",
   "metadata": {},
   "outputs": [
    {
     "data": {
      "text/html": [
       "<div>\n",
       "<style scoped>\n",
       "    .dataframe tbody tr th:only-of-type {\n",
       "        vertical-align: middle;\n",
       "    }\n",
       "\n",
       "    .dataframe tbody tr th {\n",
       "        vertical-align: top;\n",
       "    }\n",
       "\n",
       "    .dataframe thead th {\n",
       "        text-align: right;\n",
       "    }\n",
       "</style>\n",
       "<table border=\"1\" class=\"dataframe\">\n",
       "  <thead>\n",
       "    <tr style=\"text-align: right;\">\n",
       "      <th></th>\n",
       "      <th>FIRST_NAME</th>\n",
       "      <th>LAST_NAME</th>\n",
       "      <th>EMAIL</th>\n",
       "    </tr>\n",
       "  </thead>\n",
       "  <tbody>\n",
       "    <tr>\n",
       "      <th>0</th>\n",
       "      <td>Vaishnao</td>\n",
       "      <td>Wankar</td>\n",
       "      <td>vaishnaowankar@gmail.com</td>\n",
       "    </tr>\n",
       "    <tr>\n",
       "      <th>1</th>\n",
       "      <td>Avyukt</td>\n",
       "      <td>Harjai</td>\n",
       "      <td>avyuktharjai@gmail.com</td>\n",
       "    </tr>\n",
       "    <tr>\n",
       "      <th>2</th>\n",
       "      <td>Reyansh</td>\n",
       "      <td>Lamba</td>\n",
       "      <td>reyanshlamba@gmail.com</td>\n",
       "    </tr>\n",
       "  </tbody>\n",
       "</table>\n",
       "</div>"
      ],
      "text/plain": [
       "  FIRST_NAME LAST_NAME                     EMAIL\n",
       "0   Vaishnao    Wankar  vaishnaowankar@gmail.com\n",
       "1     Avyukt    Harjai    avyuktharjai@gmail.com\n",
       "2    Reyansh     Lamba    reyanshlamba@gmail.com"
      ]
     },
     "execution_count": 9,
     "metadata": {},
     "output_type": "execute_result"
    }
   ],
   "source": [
    "df"
   ]
  },
  {
   "cell_type": "code",
   "execution_count": 10,
   "id": "79bb83b9-2f8b-4b50-9b2e-bb622af6cb2c",
   "metadata": {},
   "outputs": [
    {
     "data": {
      "text/html": [
       "<div>\n",
       "<style scoped>\n",
       "    .dataframe tbody tr th:only-of-type {\n",
       "        vertical-align: middle;\n",
       "    }\n",
       "\n",
       "    .dataframe tbody tr th {\n",
       "        vertical-align: top;\n",
       "    }\n",
       "\n",
       "    .dataframe thead th {\n",
       "        text-align: right;\n",
       "    }\n",
       "</style>\n",
       "<table border=\"1\" class=\"dataframe\">\n",
       "  <thead>\n",
       "    <tr style=\"text-align: right;\">\n",
       "      <th></th>\n",
       "      <th>FIRST NAME</th>\n",
       "      <th>LAST NAME</th>\n",
       "      <th>EMAIL</th>\n",
       "    </tr>\n",
       "  </thead>\n",
       "  <tbody>\n",
       "    <tr>\n",
       "      <th>0</th>\n",
       "      <td>Vaishnao</td>\n",
       "      <td>Wankar</td>\n",
       "      <td>vaishnaowankar@gmail.com</td>\n",
       "    </tr>\n",
       "    <tr>\n",
       "      <th>1</th>\n",
       "      <td>Avyukt</td>\n",
       "      <td>Harjai</td>\n",
       "      <td>avyuktharjai@gmail.com</td>\n",
       "    </tr>\n",
       "    <tr>\n",
       "      <th>2</th>\n",
       "      <td>Reyansh</td>\n",
       "      <td>Lamba</td>\n",
       "      <td>reyanshlamba@gmail.com</td>\n",
       "    </tr>\n",
       "  </tbody>\n",
       "</table>\n",
       "</div>"
      ],
      "text/plain": [
       "  FIRST NAME LAST NAME                     EMAIL\n",
       "0   Vaishnao    Wankar  vaishnaowankar@gmail.com\n",
       "1     Avyukt    Harjai    avyuktharjai@gmail.com\n",
       "2    Reyansh     Lamba    reyanshlamba@gmail.com"
      ]
     },
     "execution_count": 10,
     "metadata": {},
     "output_type": "execute_result"
    }
   ],
   "source": [
    "# replace _ with space\n",
    "df.columns = df.columns.str.replace('_',' ')\n",
    "df"
   ]
  },
  {
   "cell_type": "code",
   "execution_count": 11,
   "id": "2fc27099-0278-41a9-bd0c-f365408add27",
   "metadata": {},
   "outputs": [],
   "source": [
    "# renaming the column names using rename method\n",
    "df.rename(columns={'FIRST NAME':'first','LAST NAME':'last','EMAIL':'email'},inplace = True)"
   ]
  },
  {
   "cell_type": "code",
   "execution_count": 12,
   "id": "ade44f90-bd17-48a3-9257-46d2fd083130",
   "metadata": {},
   "outputs": [
    {
     "data": {
      "text/html": [
       "<div>\n",
       "<style scoped>\n",
       "    .dataframe tbody tr th:only-of-type {\n",
       "        vertical-align: middle;\n",
       "    }\n",
       "\n",
       "    .dataframe tbody tr th {\n",
       "        vertical-align: top;\n",
       "    }\n",
       "\n",
       "    .dataframe thead th {\n",
       "        text-align: right;\n",
       "    }\n",
       "</style>\n",
       "<table border=\"1\" class=\"dataframe\">\n",
       "  <thead>\n",
       "    <tr style=\"text-align: right;\">\n",
       "      <th></th>\n",
       "      <th>first</th>\n",
       "      <th>last</th>\n",
       "      <th>email</th>\n",
       "    </tr>\n",
       "  </thead>\n",
       "  <tbody>\n",
       "    <tr>\n",
       "      <th>0</th>\n",
       "      <td>Vaishnao</td>\n",
       "      <td>Wankar</td>\n",
       "      <td>vaishnaowankar@gmail.com</td>\n",
       "    </tr>\n",
       "    <tr>\n",
       "      <th>1</th>\n",
       "      <td>Avyukt</td>\n",
       "      <td>Harjai</td>\n",
       "      <td>avyuktharjai@gmail.com</td>\n",
       "    </tr>\n",
       "    <tr>\n",
       "      <th>2</th>\n",
       "      <td>Reyansh</td>\n",
       "      <td>Lamba</td>\n",
       "      <td>reyanshlamba@gmail.com</td>\n",
       "    </tr>\n",
       "  </tbody>\n",
       "</table>\n",
       "</div>"
      ],
      "text/plain": [
       "      first    last                     email\n",
       "0  Vaishnao  Wankar  vaishnaowankar@gmail.com\n",
       "1    Avyukt  Harjai    avyuktharjai@gmail.com\n",
       "2   Reyansh   Lamba    reyanshlamba@gmail.com"
      ]
     },
     "execution_count": 12,
     "metadata": {},
     "output_type": "execute_result"
    }
   ],
   "source": [
    "df"
   ]
  },
  {
   "cell_type": "markdown",
   "id": "4eda821d-5d34-41d8-91e9-e95e48736403",
   "metadata": {},
   "source": [
    "# Updating Rows"
   ]
  },
  {
   "cell_type": "code",
   "execution_count": 13,
   "id": "8ab47356-2214-4ab7-b92d-dcc8de2492b5",
   "metadata": {},
   "outputs": [
    {
     "data": {
      "text/html": [
       "<div>\n",
       "<style scoped>\n",
       "    .dataframe tbody tr th:only-of-type {\n",
       "        vertical-align: middle;\n",
       "    }\n",
       "\n",
       "    .dataframe tbody tr th {\n",
       "        vertical-align: top;\n",
       "    }\n",
       "\n",
       "    .dataframe thead th {\n",
       "        text-align: right;\n",
       "    }\n",
       "</style>\n",
       "<table border=\"1\" class=\"dataframe\">\n",
       "  <thead>\n",
       "    <tr style=\"text-align: right;\">\n",
       "      <th></th>\n",
       "      <th>first</th>\n",
       "      <th>last</th>\n",
       "      <th>email</th>\n",
       "    </tr>\n",
       "  </thead>\n",
       "  <tbody>\n",
       "    <tr>\n",
       "      <th>0</th>\n",
       "      <td>Vaishnao</td>\n",
       "      <td>Wankar</td>\n",
       "      <td>vaishnaowankar@gmail.com</td>\n",
       "    </tr>\n",
       "    <tr>\n",
       "      <th>1</th>\n",
       "      <td>Avyukt</td>\n",
       "      <td>Harjai</td>\n",
       "      <td>avyuktharjai@gmail.com</td>\n",
       "    </tr>\n",
       "    <tr>\n",
       "      <th>2</th>\n",
       "      <td>Reyansh</td>\n",
       "      <td>Oberoi</td>\n",
       "      <td>reyanshoberoi@gmail.com</td>\n",
       "    </tr>\n",
       "  </tbody>\n",
       "</table>\n",
       "</div>"
      ],
      "text/plain": [
       "      first    last                     email\n",
       "0  Vaishnao  Wankar  vaishnaowankar@gmail.com\n",
       "1    Avyukt  Harjai    avyuktharjai@gmail.com\n",
       "2   Reyansh  Oberoi   reyanshoberoi@gmail.com"
      ]
     },
     "execution_count": 13,
     "metadata": {},
     "output_type": "execute_result"
    }
   ],
   "source": [
    "# Method 1 : changing each data of row selecting the row with loc\n",
    "df.loc[2] = ['Reyansh','Oberoi','reyanshoberoi@gmail.com']\n",
    "df"
   ]
  },
  {
   "cell_type": "code",
   "execution_count": 14,
   "id": "bdeabcbb-329a-486f-9b4a-c2e90b8f1c29",
   "metadata": {},
   "outputs": [
    {
     "data": {
      "text/html": [
       "<div>\n",
       "<style scoped>\n",
       "    .dataframe tbody tr th:only-of-type {\n",
       "        vertical-align: middle;\n",
       "    }\n",
       "\n",
       "    .dataframe tbody tr th {\n",
       "        vertical-align: top;\n",
       "    }\n",
       "\n",
       "    .dataframe thead th {\n",
       "        text-align: right;\n",
       "    }\n",
       "</style>\n",
       "<table border=\"1\" class=\"dataframe\">\n",
       "  <thead>\n",
       "    <tr style=\"text-align: right;\">\n",
       "      <th></th>\n",
       "      <th>first</th>\n",
       "      <th>last</th>\n",
       "      <th>email</th>\n",
       "    </tr>\n",
       "  </thead>\n",
       "  <tbody>\n",
       "    <tr>\n",
       "      <th>0</th>\n",
       "      <td>Vaishnao</td>\n",
       "      <td>Wankar</td>\n",
       "      <td>vaishnaowankar@gmail.com</td>\n",
       "    </tr>\n",
       "    <tr>\n",
       "      <th>1</th>\n",
       "      <td>Avyukt</td>\n",
       "      <td>Harjai</td>\n",
       "      <td>avyuktharjai@gmail.com</td>\n",
       "    </tr>\n",
       "    <tr>\n",
       "      <th>2</th>\n",
       "      <td>Reyansh</td>\n",
       "      <td>Lamba</td>\n",
       "      <td>reyanshlamba@gmail.com</td>\n",
       "    </tr>\n",
       "  </tbody>\n",
       "</table>\n",
       "</div>"
      ],
      "text/plain": [
       "      first    last                     email\n",
       "0  Vaishnao  Wankar  vaishnaowankar@gmail.com\n",
       "1    Avyukt  Harjai    avyuktharjai@gmail.com\n",
       "2   Reyansh   Lamba    reyanshlamba@gmail.com"
      ]
     },
     "execution_count": 14,
     "metadata": {},
     "output_type": "execute_result"
    }
   ],
   "source": [
    "# Method 2 : just changing the specific data\n",
    "df.loc[2,['last','email']] = ['Lamba','reyanshlamba@gmail.com']\n",
    "df"
   ]
  },
  {
   "cell_type": "code",
   "execution_count": 15,
   "id": "1e1b2721-3dc0-470d-a319-12ae95ca84c3",
   "metadata": {},
   "outputs": [
    {
     "data": {
      "text/html": [
       "<div>\n",
       "<style scoped>\n",
       "    .dataframe tbody tr th:only-of-type {\n",
       "        vertical-align: middle;\n",
       "    }\n",
       "\n",
       "    .dataframe tbody tr th {\n",
       "        vertical-align: top;\n",
       "    }\n",
       "\n",
       "    .dataframe thead th {\n",
       "        text-align: right;\n",
       "    }\n",
       "</style>\n",
       "<table border=\"1\" class=\"dataframe\">\n",
       "  <thead>\n",
       "    <tr style=\"text-align: right;\">\n",
       "      <th></th>\n",
       "      <th>first</th>\n",
       "      <th>last</th>\n",
       "      <th>email</th>\n",
       "    </tr>\n",
       "  </thead>\n",
       "  <tbody>\n",
       "    <tr>\n",
       "      <th>0</th>\n",
       "      <td>Vaishnao</td>\n",
       "      <td>Wankar</td>\n",
       "      <td>vaishnaowankar@gmail.com</td>\n",
       "    </tr>\n",
       "    <tr>\n",
       "      <th>1</th>\n",
       "      <td>Avyukt</td>\n",
       "      <td>Harjai</td>\n",
       "      <td>avyuktharjai@gmail.com</td>\n",
       "    </tr>\n",
       "    <tr>\n",
       "      <th>2</th>\n",
       "      <td>Reyansh</td>\n",
       "      <td>Oberoi</td>\n",
       "      <td>reyanshlamba@gmail.com</td>\n",
       "    </tr>\n",
       "  </tbody>\n",
       "</table>\n",
       "</div>"
      ],
      "text/plain": [
       "      first    last                     email\n",
       "0  Vaishnao  Wankar  vaishnaowankar@gmail.com\n",
       "1    Avyukt  Harjai    avyuktharjai@gmail.com\n",
       "2   Reyansh  Oberoi    reyanshlamba@gmail.com"
      ]
     },
     "execution_count": 15,
     "metadata": {},
     "output_type": "execute_result"
    }
   ],
   "source": [
    "# Changing a single value doesn't need to be passed as list \n",
    "df.loc[2,'last'] = \"Oberoi\"\n",
    "df"
   ]
  },
  {
   "cell_type": "code",
   "execution_count": 16,
   "id": "75bf688c-eac0-46bc-a174-ba8815e007da",
   "metadata": {},
   "outputs": [
    {
     "data": {
      "text/html": [
       "<div>\n",
       "<style scoped>\n",
       "    .dataframe tbody tr th:only-of-type {\n",
       "        vertical-align: middle;\n",
       "    }\n",
       "\n",
       "    .dataframe tbody tr th {\n",
       "        vertical-align: top;\n",
       "    }\n",
       "\n",
       "    .dataframe thead th {\n",
       "        text-align: right;\n",
       "    }\n",
       "</style>\n",
       "<table border=\"1\" class=\"dataframe\">\n",
       "  <thead>\n",
       "    <tr style=\"text-align: right;\">\n",
       "      <th></th>\n",
       "      <th>first</th>\n",
       "      <th>last</th>\n",
       "      <th>email</th>\n",
       "    </tr>\n",
       "  </thead>\n",
       "  <tbody>\n",
       "    <tr>\n",
       "      <th>0</th>\n",
       "      <td>Vaishnao</td>\n",
       "      <td>Wankar</td>\n",
       "      <td>vaishnaowankar@gmail.com</td>\n",
       "    </tr>\n",
       "    <tr>\n",
       "      <th>1</th>\n",
       "      <td>Avyukt</td>\n",
       "      <td>Harjai</td>\n",
       "      <td>avyuktharjai@gmail.com</td>\n",
       "    </tr>\n",
       "    <tr>\n",
       "      <th>2</th>\n",
       "      <td>Reyansh</td>\n",
       "      <td>Lamba</td>\n",
       "      <td>reyanshlamba@gmail.com</td>\n",
       "    </tr>\n",
       "  </tbody>\n",
       "</table>\n",
       "</div>"
      ],
      "text/plain": [
       "      first    last                     email\n",
       "0  Vaishnao  Wankar  vaishnaowankar@gmail.com\n",
       "1    Avyukt  Harjai    avyuktharjai@gmail.com\n",
       "2   Reyansh   Lamba    reyanshlamba@gmail.com"
      ]
     },
     "execution_count": 16,
     "metadata": {},
     "output_type": "execute_result"
    }
   ],
   "source": [
    "# We can also use at if dealing with single value\n",
    "df.at[2,'last'] = \"Lamba\"\n",
    "df"
   ]
  },
  {
   "cell_type": "markdown",
   "id": "a19706ef-5734-4bc7-a313-9b3940b06884",
   "metadata": {},
   "source": [
    "## Error alert\n"
   ]
  },
  {
   "cell_type": "code",
   "execution_count": 17,
   "id": "34e22d2c-47a2-40c5-8c15-585f18612649",
   "metadata": {},
   "outputs": [
    {
     "name": "stderr",
     "output_type": "stream",
     "text": [
      "C:\\Users\\user\\AppData\\Local\\Temp\\ipykernel_10008\\3323639697.py:3: SettingWithCopyWarning: \n",
      "A value is trying to be set on a copy of a slice from a DataFrame.\n",
      "Try using .loc[row_indexer,col_indexer] = value instead\n",
      "\n",
      "See the caveats in the documentation: https://pandas.pydata.org/pandas-docs/stable/user_guide/indexing.html#returning-a-view-versus-a-copy\n",
      "  df[filt]['last'] = 'sharma'\n"
     ]
    }
   ],
   "source": [
    "# using the filter to update the values\n",
    "filt = (df['email'] == 'vaishnaowankar@gmail.com')\n",
    "df[filt]['last'] = 'sharma'"
   ]
  },
  {
   "cell_type": "code",
   "execution_count": 18,
   "id": "4823b082-1448-4ab7-b04d-6ed970042e56",
   "metadata": {},
   "outputs": [
    {
     "data": {
      "text/html": [
       "<div>\n",
       "<style scoped>\n",
       "    .dataframe tbody tr th:only-of-type {\n",
       "        vertical-align: middle;\n",
       "    }\n",
       "\n",
       "    .dataframe tbody tr th {\n",
       "        vertical-align: top;\n",
       "    }\n",
       "\n",
       "    .dataframe thead th {\n",
       "        text-align: right;\n",
       "    }\n",
       "</style>\n",
       "<table border=\"1\" class=\"dataframe\">\n",
       "  <thead>\n",
       "    <tr style=\"text-align: right;\">\n",
       "      <th></th>\n",
       "      <th>first</th>\n",
       "      <th>last</th>\n",
       "      <th>email</th>\n",
       "    </tr>\n",
       "  </thead>\n",
       "  <tbody>\n",
       "    <tr>\n",
       "      <th>0</th>\n",
       "      <td>Vaishnao</td>\n",
       "      <td>Wankar</td>\n",
       "      <td>vaishnaowankar@gmail.com</td>\n",
       "    </tr>\n",
       "    <tr>\n",
       "      <th>1</th>\n",
       "      <td>Avyukt</td>\n",
       "      <td>Harjai</td>\n",
       "      <td>avyuktharjai@gmail.com</td>\n",
       "    </tr>\n",
       "    <tr>\n",
       "      <th>2</th>\n",
       "      <td>Reyansh</td>\n",
       "      <td>Lamba</td>\n",
       "      <td>reyanshlamba@gmail.com</td>\n",
       "    </tr>\n",
       "  </tbody>\n",
       "</table>\n",
       "</div>"
      ],
      "text/plain": [
       "      first    last                     email\n",
       "0  Vaishnao  Wankar  vaishnaowankar@gmail.com\n",
       "1    Avyukt  Harjai    avyuktharjai@gmail.com\n",
       "2   Reyansh   Lamba    reyanshlamba@gmail.com"
      ]
     },
     "execution_count": 18,
     "metadata": {},
     "output_type": "execute_result"
    }
   ],
   "source": [
    "# The above is actaully a warning but it still doesnt change out dataframe\n",
    "df"
   ]
  },
  {
   "cell_type": "code",
   "execution_count": 19,
   "id": "58b837d9-7d5f-4f71-ab7b-d973f93d1729",
   "metadata": {},
   "outputs": [],
   "source": [
    "# correct way is to use loc with filter\n",
    "filt = (df['email'] == 'vaishnaowankar@gmail.com')\n",
    "df.loc[filt,'last'] = 'Sharma'"
   ]
  },
  {
   "cell_type": "code",
   "execution_count": 20,
   "id": "2b0b4b4e-048d-4387-ac84-d01944622122",
   "metadata": {},
   "outputs": [
    {
     "data": {
      "text/html": [
       "<div>\n",
       "<style scoped>\n",
       "    .dataframe tbody tr th:only-of-type {\n",
       "        vertical-align: middle;\n",
       "    }\n",
       "\n",
       "    .dataframe tbody tr th {\n",
       "        vertical-align: top;\n",
       "    }\n",
       "\n",
       "    .dataframe thead th {\n",
       "        text-align: right;\n",
       "    }\n",
       "</style>\n",
       "<table border=\"1\" class=\"dataframe\">\n",
       "  <thead>\n",
       "    <tr style=\"text-align: right;\">\n",
       "      <th></th>\n",
       "      <th>first</th>\n",
       "      <th>last</th>\n",
       "      <th>email</th>\n",
       "    </tr>\n",
       "  </thead>\n",
       "  <tbody>\n",
       "    <tr>\n",
       "      <th>0</th>\n",
       "      <td>Vaishnao</td>\n",
       "      <td>Sharma</td>\n",
       "      <td>vaishnaowankar@gmail.com</td>\n",
       "    </tr>\n",
       "    <tr>\n",
       "      <th>1</th>\n",
       "      <td>Avyukt</td>\n",
       "      <td>Harjai</td>\n",
       "      <td>avyuktharjai@gmail.com</td>\n",
       "    </tr>\n",
       "    <tr>\n",
       "      <th>2</th>\n",
       "      <td>Reyansh</td>\n",
       "      <td>Lamba</td>\n",
       "      <td>reyanshlamba@gmail.com</td>\n",
       "    </tr>\n",
       "  </tbody>\n",
       "</table>\n",
       "</div>"
      ],
      "text/plain": [
       "      first    last                     email\n",
       "0  Vaishnao  Sharma  vaishnaowankar@gmail.com\n",
       "1    Avyukt  Harjai    avyuktharjai@gmail.com\n",
       "2   Reyansh   Lamba    reyanshlamba@gmail.com"
      ]
     },
     "execution_count": 20,
     "metadata": {},
     "output_type": "execute_result"
    }
   ],
   "source": [
    "df"
   ]
  },
  {
   "cell_type": "markdown",
   "id": "f591217f-f6a4-434a-b6ea-3ee0b99911db",
   "metadata": {},
   "source": [
    "# Changing multiple rows at once"
   ]
  },
  {
   "cell_type": "code",
   "execution_count": 21,
   "id": "935fca96-c5b4-40ac-8765-57cdd006a9d4",
   "metadata": {},
   "outputs": [
    {
     "data": {
      "text/html": [
       "<div>\n",
       "<style scoped>\n",
       "    .dataframe tbody tr th:only-of-type {\n",
       "        vertical-align: middle;\n",
       "    }\n",
       "\n",
       "    .dataframe tbody tr th {\n",
       "        vertical-align: top;\n",
       "    }\n",
       "\n",
       "    .dataframe thead th {\n",
       "        text-align: right;\n",
       "    }\n",
       "</style>\n",
       "<table border=\"1\" class=\"dataframe\">\n",
       "  <thead>\n",
       "    <tr style=\"text-align: right;\">\n",
       "      <th></th>\n",
       "      <th>first</th>\n",
       "      <th>last</th>\n",
       "      <th>email</th>\n",
       "    </tr>\n",
       "  </thead>\n",
       "  <tbody>\n",
       "    <tr>\n",
       "      <th>0</th>\n",
       "      <td>Vaishnao</td>\n",
       "      <td>Sharma</td>\n",
       "      <td>vaishnaowankar@gmail.com</td>\n",
       "    </tr>\n",
       "    <tr>\n",
       "      <th>1</th>\n",
       "      <td>Avyukt</td>\n",
       "      <td>Harjai</td>\n",
       "      <td>avyuktharjai@gmail.com</td>\n",
       "    </tr>\n",
       "    <tr>\n",
       "      <th>2</th>\n",
       "      <td>Reyansh</td>\n",
       "      <td>Lamba</td>\n",
       "      <td>reyanshlamba@gmail.com</td>\n",
       "    </tr>\n",
       "  </tbody>\n",
       "</table>\n",
       "</div>"
      ],
      "text/plain": [
       "      first    last                     email\n",
       "0  Vaishnao  Sharma  vaishnaowankar@gmail.com\n",
       "1    Avyukt  Harjai    avyuktharjai@gmail.com\n",
       "2   Reyansh   Lamba    reyanshlamba@gmail.com"
      ]
     },
     "execution_count": 21,
     "metadata": {},
     "output_type": "execute_result"
    }
   ],
   "source": [
    "df['email'] = df['email'].str.lower()\n",
    "df"
   ]
  },
  {
   "cell_type": "markdown",
   "id": "70fb5d57-cf28-4754-bed5-e7796853aff7",
   "metadata": {},
   "source": [
    "### 🌟🌟🌟 Different methods to update multiple rows at once"
   ]
  },
  {
   "cell_type": "markdown",
   "id": "cdfbf34f-f0d2-4939-b288-29da8160c978",
   "metadata": {},
   "source": [
    "# 1. Apply\n"
   ]
  },
  {
   "cell_type": "code",
   "execution_count": 22,
   "id": "403a3151-d050-4ac7-9792-c98f028b3df8",
   "metadata": {},
   "outputs": [
    {
     "data": {
      "text/plain": [
       "0    24\n",
       "1    22\n",
       "2    22\n",
       "Name: email, dtype: int64"
      ]
     },
     "execution_count": 22,
     "metadata": {},
     "output_type": "execute_result"
    }
   ],
   "source": [
    "df['email'].apply(len)"
   ]
  },
  {
   "cell_type": "code",
   "execution_count": 25,
   "id": "1a39e0b1-d5b4-4cb4-b0a5-ca44aa3d1d9a",
   "metadata": {},
   "outputs": [],
   "source": [
    "def update_email(email):\n",
    "    return email.upper()"
   ]
  },
  {
   "cell_type": "code",
   "execution_count": 26,
   "id": "93566559-cfc1-4974-8684-c09317dbf6bf",
   "metadata": {},
   "outputs": [
    {
     "data": {
      "text/plain": [
       "0    VAISHNAOWANKAR@GMAIL.COM\n",
       "1      AVYUKTHARJAI@GMAIL.COM\n",
       "2      REYANSHLAMBA@GMAIL.COM\n",
       "Name: email, dtype: object"
      ]
     },
     "execution_count": 26,
     "metadata": {},
     "output_type": "execute_result"
    }
   ],
   "source": [
    "df['email'].apply(update_email)"
   ]
  },
  {
   "cell_type": "code",
   "execution_count": 28,
   "id": "5705c32b-c25d-489f-bba9-8a7ddafaf6a6",
   "metadata": {},
   "outputs": [
    {
     "data": {
      "text/html": [
       "<div>\n",
       "<style scoped>\n",
       "    .dataframe tbody tr th:only-of-type {\n",
       "        vertical-align: middle;\n",
       "    }\n",
       "\n",
       "    .dataframe tbody tr th {\n",
       "        vertical-align: top;\n",
       "    }\n",
       "\n",
       "    .dataframe thead th {\n",
       "        text-align: right;\n",
       "    }\n",
       "</style>\n",
       "<table border=\"1\" class=\"dataframe\">\n",
       "  <thead>\n",
       "    <tr style=\"text-align: right;\">\n",
       "      <th></th>\n",
       "      <th>first</th>\n",
       "      <th>last</th>\n",
       "      <th>email</th>\n",
       "    </tr>\n",
       "  </thead>\n",
       "  <tbody>\n",
       "    <tr>\n",
       "      <th>0</th>\n",
       "      <td>Vaishnao</td>\n",
       "      <td>Sharma</td>\n",
       "      <td>VAISHNAOWANKAR@GMAIL.COM</td>\n",
       "    </tr>\n",
       "    <tr>\n",
       "      <th>1</th>\n",
       "      <td>Avyukt</td>\n",
       "      <td>Harjai</td>\n",
       "      <td>AVYUKTHARJAI@GMAIL.COM</td>\n",
       "    </tr>\n",
       "    <tr>\n",
       "      <th>2</th>\n",
       "      <td>Reyansh</td>\n",
       "      <td>Lamba</td>\n",
       "      <td>REYANSHLAMBA@GMAIL.COM</td>\n",
       "    </tr>\n",
       "  </tbody>\n",
       "</table>\n",
       "</div>"
      ],
      "text/plain": [
       "      first    last                     email\n",
       "0  Vaishnao  Sharma  VAISHNAOWANKAR@GMAIL.COM\n",
       "1    Avyukt  Harjai    AVYUKTHARJAI@GMAIL.COM\n",
       "2   Reyansh   Lamba    REYANSHLAMBA@GMAIL.COM"
      ]
     },
     "execution_count": 28,
     "metadata": {},
     "output_type": "execute_result"
    }
   ],
   "source": [
    "df['email'] = df['email'].apply(update_email)\n",
    "df"
   ]
  },
  {
   "cell_type": "code",
   "execution_count": 29,
   "id": "e5d46dae-e6cb-4272-b6f6-a771e8e6222b",
   "metadata": {},
   "outputs": [],
   "source": [
    "# example using lambda functions\n",
    "df['email'] = df['email'].apply(lambda x: x.lower())"
   ]
  },
  {
   "cell_type": "code",
   "execution_count": 30,
   "id": "b99ddb1f-1267-4620-a49f-d19e5cf9cd33",
   "metadata": {},
   "outputs": [
    {
     "data": {
      "text/html": [
       "<div>\n",
       "<style scoped>\n",
       "    .dataframe tbody tr th:only-of-type {\n",
       "        vertical-align: middle;\n",
       "    }\n",
       "\n",
       "    .dataframe tbody tr th {\n",
       "        vertical-align: top;\n",
       "    }\n",
       "\n",
       "    .dataframe thead th {\n",
       "        text-align: right;\n",
       "    }\n",
       "</style>\n",
       "<table border=\"1\" class=\"dataframe\">\n",
       "  <thead>\n",
       "    <tr style=\"text-align: right;\">\n",
       "      <th></th>\n",
       "      <th>first</th>\n",
       "      <th>last</th>\n",
       "      <th>email</th>\n",
       "    </tr>\n",
       "  </thead>\n",
       "  <tbody>\n",
       "    <tr>\n",
       "      <th>0</th>\n",
       "      <td>Vaishnao</td>\n",
       "      <td>Sharma</td>\n",
       "      <td>vaishnaowankar@gmail.com</td>\n",
       "    </tr>\n",
       "    <tr>\n",
       "      <th>1</th>\n",
       "      <td>Avyukt</td>\n",
       "      <td>Harjai</td>\n",
       "      <td>avyuktharjai@gmail.com</td>\n",
       "    </tr>\n",
       "    <tr>\n",
       "      <th>2</th>\n",
       "      <td>Reyansh</td>\n",
       "      <td>Lamba</td>\n",
       "      <td>reyanshlamba@gmail.com</td>\n",
       "    </tr>\n",
       "  </tbody>\n",
       "</table>\n",
       "</div>"
      ],
      "text/plain": [
       "      first    last                     email\n",
       "0  Vaishnao  Sharma  vaishnaowankar@gmail.com\n",
       "1    Avyukt  Harjai    avyuktharjai@gmail.com\n",
       "2   Reyansh   Lamba    reyanshlamba@gmail.com"
      ]
     },
     "execution_count": 30,
     "metadata": {},
     "output_type": "execute_result"
    }
   ],
   "source": [
    "df"
   ]
  },
  {
   "cell_type": "markdown",
   "id": "6ba17d43-fadc-4ee2-9f65-0a9ade46d727",
   "metadata": {},
   "source": [
    "# Working of len with dataframes"
   ]
  },
  {
   "cell_type": "code",
   "execution_count": 31,
   "id": "619a55fc-9d75-4c5f-9971-3a3b0c53378b",
   "metadata": {},
   "outputs": [
    {
     "data": {
      "text/plain": [
       "0    24\n",
       "1    22\n",
       "2    22\n",
       "Name: email, dtype: int64"
      ]
     },
     "execution_count": 31,
     "metadata": {},
     "output_type": "execute_result"
    }
   ],
   "source": [
    "# continuing with the example of len\n",
    "df['email'].apply(len)"
   ]
  },
  {
   "cell_type": "code",
   "execution_count": 33,
   "id": "c67705cd-49d0-44d8-9d4b-afca7ac6c4ae",
   "metadata": {},
   "outputs": [
    {
     "data": {
      "text/plain": [
       "first    3\n",
       "last     3\n",
       "email    3\n",
       "dtype: int64"
      ]
     },
     "execution_count": 33,
     "metadata": {},
     "output_type": "execute_result"
    }
   ],
   "source": [
    "df.apply(len)\n",
    "# it will basically return the the len of data in each column"
   ]
  },
  {
   "cell_type": "code",
   "execution_count": 34,
   "id": "200e98b1-f0ac-4049-8853-4c41d95b1c3d",
   "metadata": {},
   "outputs": [
    {
     "data": {
      "text/plain": [
       "0    3\n",
       "1    3\n",
       "2    3\n",
       "dtype: int64"
      ]
     },
     "execution_count": 34,
     "metadata": {},
     "output_type": "execute_result"
    }
   ],
   "source": [
    "# We can also change the axis \n",
    "df.apply(len , axis='columns')"
   ]
  },
  {
   "cell_type": "code",
   "execution_count": 37,
   "id": "13628683-0c6e-40e9-ae88-6e8093241b99",
   "metadata": {},
   "outputs": [
    {
     "data": {
      "text/plain": [
       "first                    Avyukt\n",
       "last                     Harjai\n",
       "email    avyuktharjai@gmail.com\n",
       "dtype: object"
      ]
     },
     "execution_count": 37,
     "metadata": {},
     "output_type": "execute_result"
    }
   ],
   "source": [
    "# Series has a min method which gives the minimum value of all data through row or columns as specified\n",
    "# It makes more sense working with numbers but here for example we will work with strings\n",
    "df.apply(pd.Series.min)"
   ]
  },
  {
   "cell_type": "markdown",
   "id": "71dc89ab-0871-4e08-b12b-84d8aeec9d6c",
   "metadata": {},
   "source": [
    "### It basically returned the alphabetically lower data from each column"
   ]
  },
  {
   "cell_type": "code",
   "execution_count": 38,
   "id": "6a89540c-c3a6-4f6c-b499-ff6b6b141893",
   "metadata": {},
   "outputs": [
    {
     "data": {
      "text/plain": [
       "first                    Avyukt\n",
       "last                     Harjai\n",
       "email    avyuktharjai@gmail.com\n",
       "dtype: object"
      ]
     },
     "execution_count": 38,
     "metadata": {},
     "output_type": "execute_result"
    }
   ],
   "source": [
    "# Similarly we can use lambda functions to do so\n",
    "df.apply(lambda x : x.min())"
   ]
  },
  {
   "cell_type": "markdown",
   "id": "c17b8b9a-5141-4173-a3e5-aaaedab959fa",
   "metadata": {},
   "source": [
    "## In the above case the x is actually a Series datatype hence we can apply min method directly"
   ]
  },
  {
   "cell_type": "markdown",
   "id": "8295ed75-572f-4d23-820f-de13c9596671",
   "metadata": {},
   "source": [
    "# 2. ApplyMap"
   ]
  },
  {
   "cell_type": "markdown",
   "id": "4e8d7d4d-0f00-4d71-9e7d-42a98192ca2d",
   "metadata": {},
   "source": [
    "### applymap works on every element of dataframe"
   ]
  },
  {
   "cell_type": "code",
   "execution_count": 39,
   "id": "3923dd49-eb92-4ce8-9bc6-c6d55e4c8293",
   "metadata": {},
   "outputs": [
    {
     "name": "stderr",
     "output_type": "stream",
     "text": [
      "C:\\Users\\user\\AppData\\Local\\Temp\\ipykernel_10008\\1485728669.py:1: FutureWarning: DataFrame.applymap has been deprecated. Use DataFrame.map instead.\n",
      "  df.applymap(len)\n"
     ]
    },
    {
     "data": {
      "text/html": [
       "<div>\n",
       "<style scoped>\n",
       "    .dataframe tbody tr th:only-of-type {\n",
       "        vertical-align: middle;\n",
       "    }\n",
       "\n",
       "    .dataframe tbody tr th {\n",
       "        vertical-align: top;\n",
       "    }\n",
       "\n",
       "    .dataframe thead th {\n",
       "        text-align: right;\n",
       "    }\n",
       "</style>\n",
       "<table border=\"1\" class=\"dataframe\">\n",
       "  <thead>\n",
       "    <tr style=\"text-align: right;\">\n",
       "      <th></th>\n",
       "      <th>first</th>\n",
       "      <th>last</th>\n",
       "      <th>email</th>\n",
       "    </tr>\n",
       "  </thead>\n",
       "  <tbody>\n",
       "    <tr>\n",
       "      <th>0</th>\n",
       "      <td>8</td>\n",
       "      <td>6</td>\n",
       "      <td>24</td>\n",
       "    </tr>\n",
       "    <tr>\n",
       "      <th>1</th>\n",
       "      <td>6</td>\n",
       "      <td>6</td>\n",
       "      <td>22</td>\n",
       "    </tr>\n",
       "    <tr>\n",
       "      <th>2</th>\n",
       "      <td>7</td>\n",
       "      <td>5</td>\n",
       "      <td>22</td>\n",
       "    </tr>\n",
       "  </tbody>\n",
       "</table>\n",
       "</div>"
      ],
      "text/plain": [
       "   first  last  email\n",
       "0      8     6     24\n",
       "1      6     6     22\n",
       "2      7     5     22"
      ]
     },
     "execution_count": 39,
     "metadata": {},
     "output_type": "execute_result"
    }
   ],
   "source": [
    "df.applymap(len)"
   ]
  },
  {
   "cell_type": "code",
   "execution_count": 40,
   "id": "c9ebfd24-03d6-4ffc-8cb4-b8efea9f4336",
   "metadata": {},
   "outputs": [
    {
     "name": "stderr",
     "output_type": "stream",
     "text": [
      "C:\\Users\\user\\AppData\\Local\\Temp\\ipykernel_10008\\357608748.py:1: FutureWarning: DataFrame.applymap has been deprecated. Use DataFrame.map instead.\n",
      "  df.applymap(str.lower)\n"
     ]
    },
    {
     "data": {
      "text/html": [
       "<div>\n",
       "<style scoped>\n",
       "    .dataframe tbody tr th:only-of-type {\n",
       "        vertical-align: middle;\n",
       "    }\n",
       "\n",
       "    .dataframe tbody tr th {\n",
       "        vertical-align: top;\n",
       "    }\n",
       "\n",
       "    .dataframe thead th {\n",
       "        text-align: right;\n",
       "    }\n",
       "</style>\n",
       "<table border=\"1\" class=\"dataframe\">\n",
       "  <thead>\n",
       "    <tr style=\"text-align: right;\">\n",
       "      <th></th>\n",
       "      <th>first</th>\n",
       "      <th>last</th>\n",
       "      <th>email</th>\n",
       "    </tr>\n",
       "  </thead>\n",
       "  <tbody>\n",
       "    <tr>\n",
       "      <th>0</th>\n",
       "      <td>vaishnao</td>\n",
       "      <td>sharma</td>\n",
       "      <td>vaishnaowankar@gmail.com</td>\n",
       "    </tr>\n",
       "    <tr>\n",
       "      <th>1</th>\n",
       "      <td>avyukt</td>\n",
       "      <td>harjai</td>\n",
       "      <td>avyuktharjai@gmail.com</td>\n",
       "    </tr>\n",
       "    <tr>\n",
       "      <th>2</th>\n",
       "      <td>reyansh</td>\n",
       "      <td>lamba</td>\n",
       "      <td>reyanshlamba@gmail.com</td>\n",
       "    </tr>\n",
       "  </tbody>\n",
       "</table>\n",
       "</div>"
      ],
      "text/plain": [
       "      first    last                     email\n",
       "0  vaishnao  sharma  vaishnaowankar@gmail.com\n",
       "1    avyukt  harjai    avyuktharjai@gmail.com\n",
       "2   reyansh   lamba    reyanshlamba@gmail.com"
      ]
     },
     "execution_count": 40,
     "metadata": {},
     "output_type": "execute_result"
    }
   ],
   "source": [
    "df.applymap(str.lower)"
   ]
  },
  {
   "cell_type": "code",
   "execution_count": 41,
   "id": "dadc38b2-c4f2-4ba9-9d65-0eb56d0f39ae",
   "metadata": {},
   "outputs": [
    {
     "data": {
      "text/html": [
       "<div>\n",
       "<style scoped>\n",
       "    .dataframe tbody tr th:only-of-type {\n",
       "        vertical-align: middle;\n",
       "    }\n",
       "\n",
       "    .dataframe tbody tr th {\n",
       "        vertical-align: top;\n",
       "    }\n",
       "\n",
       "    .dataframe thead th {\n",
       "        text-align: right;\n",
       "    }\n",
       "</style>\n",
       "<table border=\"1\" class=\"dataframe\">\n",
       "  <thead>\n",
       "    <tr style=\"text-align: right;\">\n",
       "      <th></th>\n",
       "      <th>first</th>\n",
       "      <th>last</th>\n",
       "      <th>email</th>\n",
       "    </tr>\n",
       "  </thead>\n",
       "  <tbody>\n",
       "    <tr>\n",
       "      <th>0</th>\n",
       "      <td>8</td>\n",
       "      <td>6</td>\n",
       "      <td>24</td>\n",
       "    </tr>\n",
       "    <tr>\n",
       "      <th>1</th>\n",
       "      <td>6</td>\n",
       "      <td>6</td>\n",
       "      <td>22</td>\n",
       "    </tr>\n",
       "    <tr>\n",
       "      <th>2</th>\n",
       "      <td>7</td>\n",
       "      <td>5</td>\n",
       "      <td>22</td>\n",
       "    </tr>\n",
       "  </tbody>\n",
       "</table>\n",
       "</div>"
      ],
      "text/plain": [
       "   first  last  email\n",
       "0      8     6     24\n",
       "1      6     6     22\n",
       "2      7     5     22"
      ]
     },
     "execution_count": 41,
     "metadata": {},
     "output_type": "execute_result"
    }
   ],
   "source": [
    "df.map(len)"
   ]
  },
  {
   "cell_type": "code",
   "execution_count": 42,
   "id": "fe9b5f83-6324-4b4b-a06b-60b80126bd36",
   "metadata": {},
   "outputs": [
    {
     "data": {
      "text/html": [
       "<div>\n",
       "<style scoped>\n",
       "    .dataframe tbody tr th:only-of-type {\n",
       "        vertical-align: middle;\n",
       "    }\n",
       "\n",
       "    .dataframe tbody tr th {\n",
       "        vertical-align: top;\n",
       "    }\n",
       "\n",
       "    .dataframe thead th {\n",
       "        text-align: right;\n",
       "    }\n",
       "</style>\n",
       "<table border=\"1\" class=\"dataframe\">\n",
       "  <thead>\n",
       "    <tr style=\"text-align: right;\">\n",
       "      <th></th>\n",
       "      <th>first</th>\n",
       "      <th>last</th>\n",
       "      <th>email</th>\n",
       "    </tr>\n",
       "  </thead>\n",
       "  <tbody>\n",
       "    <tr>\n",
       "      <th>0</th>\n",
       "      <td>VAISHNAO</td>\n",
       "      <td>SHARMA</td>\n",
       "      <td>VAISHNAOWANKAR@GMAIL.COM</td>\n",
       "    </tr>\n",
       "    <tr>\n",
       "      <th>1</th>\n",
       "      <td>AVYUKT</td>\n",
       "      <td>HARJAI</td>\n",
       "      <td>AVYUKTHARJAI@GMAIL.COM</td>\n",
       "    </tr>\n",
       "    <tr>\n",
       "      <th>2</th>\n",
       "      <td>REYANSH</td>\n",
       "      <td>LAMBA</td>\n",
       "      <td>REYANSHLAMBA@GMAIL.COM</td>\n",
       "    </tr>\n",
       "  </tbody>\n",
       "</table>\n",
       "</div>"
      ],
      "text/plain": [
       "      first    last                     email\n",
       "0  VAISHNAO  SHARMA  VAISHNAOWANKAR@GMAIL.COM\n",
       "1    AVYUKT  HARJAI    AVYUKTHARJAI@GMAIL.COM\n",
       "2   REYANSH   LAMBA    REYANSHLAMBA@GMAIL.COM"
      ]
     },
     "execution_count": 42,
     "metadata": {},
     "output_type": "execute_result"
    }
   ],
   "source": [
    "df.map(str.upper)"
   ]
  },
  {
   "cell_type": "markdown",
   "id": "caa7b593-c7cd-41d7-8dbf-dd743e02464a",
   "metadata": {},
   "source": [
    "# 3. Map and Replace"
   ]
  },
  {
   "cell_type": "code",
   "execution_count": 62,
   "id": "30ebf327-b215-4547-a0b3-958d45424c14",
   "metadata": {},
   "outputs": [],
   "source": [
    "original_first_names = ['Vaishnao', 'Rudra', 'Shubh']\n",
    "df['first'] = original_first_names"
   ]
  },
  {
   "cell_type": "code",
   "execution_count": 63,
   "id": "9cd93a4c-ae96-482c-a5c6-844f2039661a",
   "metadata": {},
   "outputs": [
    {
     "data": {
      "text/html": [
       "<div>\n",
       "<style scoped>\n",
       "    .dataframe tbody tr th:only-of-type {\n",
       "        vertical-align: middle;\n",
       "    }\n",
       "\n",
       "    .dataframe tbody tr th {\n",
       "        vertical-align: top;\n",
       "    }\n",
       "\n",
       "    .dataframe thead th {\n",
       "        text-align: right;\n",
       "    }\n",
       "</style>\n",
       "<table border=\"1\" class=\"dataframe\">\n",
       "  <thead>\n",
       "    <tr style=\"text-align: right;\">\n",
       "      <th></th>\n",
       "      <th>first</th>\n",
       "      <th>last</th>\n",
       "      <th>email</th>\n",
       "    </tr>\n",
       "  </thead>\n",
       "  <tbody>\n",
       "    <tr>\n",
       "      <th>0</th>\n",
       "      <td>Vaishnao</td>\n",
       "      <td>Sharma</td>\n",
       "      <td>vaishnaowankar@gmail.com</td>\n",
       "    </tr>\n",
       "    <tr>\n",
       "      <th>1</th>\n",
       "      <td>Rudra</td>\n",
       "      <td>Harjai</td>\n",
       "      <td>avyuktharjai@gmail.com</td>\n",
       "    </tr>\n",
       "    <tr>\n",
       "      <th>2</th>\n",
       "      <td>Shubh</td>\n",
       "      <td>Lamba</td>\n",
       "      <td>reyanshlamba@gmail.com</td>\n",
       "    </tr>\n",
       "  </tbody>\n",
       "</table>\n",
       "</div>"
      ],
      "text/plain": [
       "      first    last                     email\n",
       "0  Vaishnao  Sharma  vaishnaowankar@gmail.com\n",
       "1     Rudra  Harjai    avyuktharjai@gmail.com\n",
       "2     Shubh   Lamba    reyanshlamba@gmail.com"
      ]
     },
     "execution_count": 63,
     "metadata": {},
     "output_type": "execute_result"
    }
   ],
   "source": [
    "df"
   ]
  },
  {
   "cell_type": "code",
   "execution_count": 66,
   "id": "dd28d91a-0cbf-4e04-91b9-99eabfd2d089",
   "metadata": {},
   "outputs": [
    {
     "data": {
      "text/plain": [
       "0        NaN\n",
       "1     Avyukt\n",
       "2    Reyansh\n",
       "Name: first, dtype: object"
      ]
     },
     "execution_count": 66,
     "metadata": {},
     "output_type": "execute_result"
    }
   ],
   "source": [
    "df['first'].map({'Rudra':'Avyukt','Shubh':'Reyansh'})\n",
    "# Note map returns NaN for which we didnt changed the data"
   ]
  },
  {
   "cell_type": "code",
   "execution_count": 67,
   "id": "de309db6-9e9b-4fce-9ba1-933a8b9f75cf",
   "metadata": {},
   "outputs": [
    {
     "data": {
      "text/plain": [
       "0    Vaishnao\n",
       "1      Avyukt\n",
       "2     Reyansh\n",
       "Name: first, dtype: object"
      ]
     },
     "execution_count": 67,
     "metadata": {},
     "output_type": "execute_result"
    }
   ],
   "source": [
    "df['first'].replace({'Rudra':'Avyukt','Shubh':'Reyansh'})\n",
    "# We can  use replace if we want to show the unchanged data"
   ]
  },
  {
   "cell_type": "code",
   "execution_count": 68,
   "id": "54dad3a1-170b-4268-afad-c8f3754957d9",
   "metadata": {},
   "outputs": [
    {
     "data": {
      "text/html": [
       "<div>\n",
       "<style scoped>\n",
       "    .dataframe tbody tr th:only-of-type {\n",
       "        vertical-align: middle;\n",
       "    }\n",
       "\n",
       "    .dataframe tbody tr th {\n",
       "        vertical-align: top;\n",
       "    }\n",
       "\n",
       "    .dataframe thead th {\n",
       "        text-align: right;\n",
       "    }\n",
       "</style>\n",
       "<table border=\"1\" class=\"dataframe\">\n",
       "  <thead>\n",
       "    <tr style=\"text-align: right;\">\n",
       "      <th></th>\n",
       "      <th>first</th>\n",
       "      <th>last</th>\n",
       "      <th>email</th>\n",
       "    </tr>\n",
       "  </thead>\n",
       "  <tbody>\n",
       "    <tr>\n",
       "      <th>0</th>\n",
       "      <td>Vaishnao</td>\n",
       "      <td>Sharma</td>\n",
       "      <td>vaishnaowankar@gmail.com</td>\n",
       "    </tr>\n",
       "    <tr>\n",
       "      <th>1</th>\n",
       "      <td>Rudra</td>\n",
       "      <td>Harjai</td>\n",
       "      <td>avyuktharjai@gmail.com</td>\n",
       "    </tr>\n",
       "    <tr>\n",
       "      <th>2</th>\n",
       "      <td>Shubh</td>\n",
       "      <td>Lamba</td>\n",
       "      <td>reyanshlamba@gmail.com</td>\n",
       "    </tr>\n",
       "  </tbody>\n",
       "</table>\n",
       "</div>"
      ],
      "text/plain": [
       "      first    last                     email\n",
       "0  Vaishnao  Sharma  vaishnaowankar@gmail.com\n",
       "1     Rudra  Harjai    avyuktharjai@gmail.com\n",
       "2     Shubh   Lamba    reyanshlamba@gmail.com"
      ]
     },
     "execution_count": 68,
     "metadata": {},
     "output_type": "execute_result"
    }
   ],
   "source": [
    "# note our original df is not changed\n",
    "df"
   ]
  },
  {
   "cell_type": "code",
   "execution_count": 69,
   "id": "5bcdae3c-d555-4ffd-8ccf-e5ba1ddbd7f8",
   "metadata": {},
   "outputs": [
    {
     "data": {
      "text/html": [
       "<div>\n",
       "<style scoped>\n",
       "    .dataframe tbody tr th:only-of-type {\n",
       "        vertical-align: middle;\n",
       "    }\n",
       "\n",
       "    .dataframe tbody tr th {\n",
       "        vertical-align: top;\n",
       "    }\n",
       "\n",
       "    .dataframe thead th {\n",
       "        text-align: right;\n",
       "    }\n",
       "</style>\n",
       "<table border=\"1\" class=\"dataframe\">\n",
       "  <thead>\n",
       "    <tr style=\"text-align: right;\">\n",
       "      <th></th>\n",
       "      <th>first</th>\n",
       "      <th>last</th>\n",
       "      <th>email</th>\n",
       "    </tr>\n",
       "  </thead>\n",
       "  <tbody>\n",
       "    <tr>\n",
       "      <th>0</th>\n",
       "      <td>Vaishnao</td>\n",
       "      <td>Sharma</td>\n",
       "      <td>vaishnaowankar@gmail.com</td>\n",
       "    </tr>\n",
       "    <tr>\n",
       "      <th>1</th>\n",
       "      <td>Avyukt</td>\n",
       "      <td>Harjai</td>\n",
       "      <td>avyuktharjai@gmail.com</td>\n",
       "    </tr>\n",
       "    <tr>\n",
       "      <th>2</th>\n",
       "      <td>Reyansh</td>\n",
       "      <td>Lamba</td>\n",
       "      <td>reyanshlamba@gmail.com</td>\n",
       "    </tr>\n",
       "  </tbody>\n",
       "</table>\n",
       "</div>"
      ],
      "text/plain": [
       "      first    last                     email\n",
       "0  Vaishnao  Sharma  vaishnaowankar@gmail.com\n",
       "1    Avyukt  Harjai    avyuktharjai@gmail.com\n",
       "2   Reyansh   Lamba    reyanshlamba@gmail.com"
      ]
     },
     "execution_count": 69,
     "metadata": {},
     "output_type": "execute_result"
    }
   ],
   "source": [
    "# to change it we need to do the following\n",
    "df['first'] = df['first'].replace({'Rudra':'Avyukt','Shubh':'Reyansh'})\n",
    "df"
   ]
  },
  {
   "cell_type": "code",
   "execution_count": null,
   "id": "0f2095e5-e5e5-472f-bc21-54b810d61dac",
   "metadata": {},
   "outputs": [],
   "source": []
  }
 ],
 "metadata": {
  "kernelspec": {
   "display_name": "Python 3 (ipykernel)",
   "language": "python",
   "name": "python3"
  },
  "language_info": {
   "codemirror_mode": {
    "name": "ipython",
    "version": 3
   },
   "file_extension": ".py",
   "mimetype": "text/x-python",
   "name": "python",
   "nbconvert_exporter": "python",
   "pygments_lexer": "ipython3",
   "version": "3.12.2"
  }
 },
 "nbformat": 4,
 "nbformat_minor": 5
}
